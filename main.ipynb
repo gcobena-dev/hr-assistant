{
 "cells": [
  {
   "cell_type": "markdown",
   "id": "823d8f7a",
   "metadata": {},
   "source": [
    "Install Requirements"
   ]
  },
  {
   "cell_type": "code",
   "execution_count": 3,
   "metadata": {},
   "outputs": [
    {
     "name": "stdout",
     "output_type": "stream",
     "text": [
      "Requirement already satisfied: openai in /Users/gancoce/.pyenv/versions/3.10.0/lib/python3.10/site-packages (from -r requirements.txt (line 1)) (1.35.12)\n",
      "Requirement already satisfied: annoy in /Users/gancoce/.pyenv/versions/3.10.0/lib/python3.10/site-packages (from -r requirements.txt (line 2)) (1.17.3)\n",
      "Requirement already satisfied: sentence-transformers in /Users/gancoce/.pyenv/versions/3.10.0/lib/python3.10/site-packages (from -r requirements.txt (line 3)) (3.0.1)\n",
      "Requirement already satisfied: anyio<5,>=3.5.0 in /Users/gancoce/.pyenv/versions/3.10.0/lib/python3.10/site-packages (from openai->-r requirements.txt (line 1)) (4.4.0)\n",
      "Requirement already satisfied: distro<2,>=1.7.0 in /Users/gancoce/.pyenv/versions/3.10.0/lib/python3.10/site-packages (from openai->-r requirements.txt (line 1)) (1.9.0)\n",
      "Requirement already satisfied: httpx<1,>=0.23.0 in /Users/gancoce/.pyenv/versions/3.10.0/lib/python3.10/site-packages (from openai->-r requirements.txt (line 1)) (0.27.0)\n",
      "Requirement already satisfied: pydantic<3,>=1.9.0 in /Users/gancoce/.pyenv/versions/3.10.0/lib/python3.10/site-packages (from openai->-r requirements.txt (line 1)) (2.8.2)\n",
      "Requirement already satisfied: sniffio in /Users/gancoce/.pyenv/versions/3.10.0/lib/python3.10/site-packages (from openai->-r requirements.txt (line 1)) (1.3.1)\n",
      "Requirement already satisfied: tqdm>4 in /Users/gancoce/.pyenv/versions/3.10.0/lib/python3.10/site-packages (from openai->-r requirements.txt (line 1)) (4.66.4)\n",
      "Requirement already satisfied: typing-extensions<5,>=4.7 in /Users/gancoce/.pyenv/versions/3.10.0/lib/python3.10/site-packages (from openai->-r requirements.txt (line 1)) (4.12.2)\n",
      "Requirement already satisfied: transformers<5.0.0,>=4.34.0 in /Users/gancoce/.pyenv/versions/3.10.0/lib/python3.10/site-packages (from sentence-transformers->-r requirements.txt (line 3)) (4.42.3)\n",
      "Requirement already satisfied: torch>=1.11.0 in /Users/gancoce/.pyenv/versions/3.10.0/lib/python3.10/site-packages (from sentence-transformers->-r requirements.txt (line 3)) (2.2.2)\n",
      "Requirement already satisfied: numpy in /Users/gancoce/.pyenv/versions/3.10.0/lib/python3.10/site-packages (from sentence-transformers->-r requirements.txt (line 3)) (1.26.4)\n",
      "Requirement already satisfied: scikit-learn in /Users/gancoce/.pyenv/versions/3.10.0/lib/python3.10/site-packages (from sentence-transformers->-r requirements.txt (line 3)) (1.5.1)\n",
      "Requirement already satisfied: scipy in /Users/gancoce/.pyenv/versions/3.10.0/lib/python3.10/site-packages (from sentence-transformers->-r requirements.txt (line 3)) (1.14.0)\n",
      "Requirement already satisfied: huggingface-hub>=0.15.1 in /Users/gancoce/.pyenv/versions/3.10.0/lib/python3.10/site-packages (from sentence-transformers->-r requirements.txt (line 3)) (0.23.4)\n",
      "Requirement already satisfied: Pillow in /Users/gancoce/.pyenv/versions/3.10.0/lib/python3.10/site-packages (from sentence-transformers->-r requirements.txt (line 3)) (10.4.0)\n",
      "Requirement already satisfied: idna>=2.8 in /Users/gancoce/.pyenv/versions/3.10.0/lib/python3.10/site-packages (from anyio<5,>=3.5.0->openai->-r requirements.txt (line 1)) (3.7)\n",
      "Requirement already satisfied: exceptiongroup>=1.0.2 in /Users/gancoce/.pyenv/versions/3.10.0/lib/python3.10/site-packages (from anyio<5,>=3.5.0->openai->-r requirements.txt (line 1)) (1.2.1)\n",
      "Requirement already satisfied: certifi in /Users/gancoce/.pyenv/versions/3.10.0/lib/python3.10/site-packages (from httpx<1,>=0.23.0->openai->-r requirements.txt (line 1)) (2024.7.4)\n",
      "Requirement already satisfied: httpcore==1.* in /Users/gancoce/.pyenv/versions/3.10.0/lib/python3.10/site-packages (from httpx<1,>=0.23.0->openai->-r requirements.txt (line 1)) (1.0.5)\n",
      "Requirement already satisfied: h11<0.15,>=0.13 in /Users/gancoce/.pyenv/versions/3.10.0/lib/python3.10/site-packages (from httpcore==1.*->httpx<1,>=0.23.0->openai->-r requirements.txt (line 1)) (0.14.0)\n",
      "Requirement already satisfied: filelock in /Users/gancoce/.pyenv/versions/3.10.0/lib/python3.10/site-packages (from huggingface-hub>=0.15.1->sentence-transformers->-r requirements.txt (line 3)) (3.15.4)\n",
      "Requirement already satisfied: fsspec>=2023.5.0 in /Users/gancoce/.pyenv/versions/3.10.0/lib/python3.10/site-packages (from huggingface-hub>=0.15.1->sentence-transformers->-r requirements.txt (line 3)) (2024.6.1)\n",
      "Requirement already satisfied: packaging>=20.9 in /Users/gancoce/.pyenv/versions/3.10.0/lib/python3.10/site-packages (from huggingface-hub>=0.15.1->sentence-transformers->-r requirements.txt (line 3)) (24.1)\n",
      "Requirement already satisfied: pyyaml>=5.1 in /Users/gancoce/.pyenv/versions/3.10.0/lib/python3.10/site-packages (from huggingface-hub>=0.15.1->sentence-transformers->-r requirements.txt (line 3)) (6.0.1)\n",
      "Requirement already satisfied: requests in /Users/gancoce/.pyenv/versions/3.10.0/lib/python3.10/site-packages (from huggingface-hub>=0.15.1->sentence-transformers->-r requirements.txt (line 3)) (2.32.3)\n",
      "Requirement already satisfied: annotated-types>=0.4.0 in /Users/gancoce/.pyenv/versions/3.10.0/lib/python3.10/site-packages (from pydantic<3,>=1.9.0->openai->-r requirements.txt (line 1)) (0.7.0)\n",
      "Requirement already satisfied: pydantic-core==2.20.1 in /Users/gancoce/.pyenv/versions/3.10.0/lib/python3.10/site-packages (from pydantic<3,>=1.9.0->openai->-r requirements.txt (line 1)) (2.20.1)\n",
      "Requirement already satisfied: sympy in /Users/gancoce/.pyenv/versions/3.10.0/lib/python3.10/site-packages (from torch>=1.11.0->sentence-transformers->-r requirements.txt (line 3)) (1.13.0)\n",
      "Requirement already satisfied: networkx in /Users/gancoce/.pyenv/versions/3.10.0/lib/python3.10/site-packages (from torch>=1.11.0->sentence-transformers->-r requirements.txt (line 3)) (3.3)\n",
      "Requirement already satisfied: jinja2 in /Users/gancoce/.pyenv/versions/3.10.0/lib/python3.10/site-packages (from torch>=1.11.0->sentence-transformers->-r requirements.txt (line 3)) (3.1.4)\n",
      "Requirement already satisfied: regex!=2019.12.17 in /Users/gancoce/.pyenv/versions/3.10.0/lib/python3.10/site-packages (from transformers<5.0.0,>=4.34.0->sentence-transformers->-r requirements.txt (line 3)) (2024.5.15)\n",
      "Requirement already satisfied: safetensors>=0.4.1 in /Users/gancoce/.pyenv/versions/3.10.0/lib/python3.10/site-packages (from transformers<5.0.0,>=4.34.0->sentence-transformers->-r requirements.txt (line 3)) (0.4.3)\n",
      "Requirement already satisfied: tokenizers<0.20,>=0.19 in /Users/gancoce/.pyenv/versions/3.10.0/lib/python3.10/site-packages (from transformers<5.0.0,>=4.34.0->sentence-transformers->-r requirements.txt (line 3)) (0.19.1)\n",
      "Requirement already satisfied: joblib>=1.2.0 in /Users/gancoce/.pyenv/versions/3.10.0/lib/python3.10/site-packages (from scikit-learn->sentence-transformers->-r requirements.txt (line 3)) (1.4.2)\n",
      "Requirement already satisfied: threadpoolctl>=3.1.0 in /Users/gancoce/.pyenv/versions/3.10.0/lib/python3.10/site-packages (from scikit-learn->sentence-transformers->-r requirements.txt (line 3)) (3.5.0)\n",
      "Requirement already satisfied: MarkupSafe>=2.0 in /Users/gancoce/.pyenv/versions/3.10.0/lib/python3.10/site-packages (from jinja2->torch>=1.11.0->sentence-transformers->-r requirements.txt (line 3)) (2.1.5)\n",
      "Requirement already satisfied: charset-normalizer<4,>=2 in /Users/gancoce/.pyenv/versions/3.10.0/lib/python3.10/site-packages (from requests->huggingface-hub>=0.15.1->sentence-transformers->-r requirements.txt (line 3)) (3.3.2)\n",
      "Requirement already satisfied: urllib3<3,>=1.21.1 in /Users/gancoce/.pyenv/versions/3.10.0/lib/python3.10/site-packages (from requests->huggingface-hub>=0.15.1->sentence-transformers->-r requirements.txt (line 3)) (2.2.2)\n",
      "Requirement already satisfied: mpmath<1.4,>=1.1.0 in /Users/gancoce/.pyenv/versions/3.10.0/lib/python3.10/site-packages (from sympy->torch>=1.11.0->sentence-transformers->-r requirements.txt (line 3)) (1.3.0)\n"
     ]
    }
   ],
   "source": [
    "!pip install -r requirements.txt"
   ]
  },
  {
   "cell_type": "markdown",
   "id": "71220e12",
   "metadata": {},
   "source": [
    "Open CSV"
   ]
  },
  {
   "cell_type": "code",
   "execution_count": 2,
   "id": "52e719d1",
   "metadata": {},
   "outputs": [],
   "source": [
    "import csv\n",
    "\n",
    "# Ruta del archivo CSV\n",
    "archivo_csv = 'data/resume.csv'\n",
    "\n",
    "# Lista para almacenar los datos del CSV\n",
    "datos = []\n",
    "\n",
    "# Abrir el archivo CSV y leer los datos\n",
    "with open(archivo_csv, newline='') as csvfile:\n",
    "    lector_csv = csv.reader(csvfile, delimiter=',')\n",
    "    # Iterar sobre cada fila del CSV\n",
    "    for fila in lector_csv:\n",
    "        datos.append(fila)"
   ]
  },
  {
   "cell_type": "code",
   "execution_count": 3,
   "id": "ad119ffc",
   "metadata": {},
   "outputs": [
    {
     "data": {
      "text/plain": [
       "2485"
      ]
     },
     "execution_count": 3,
     "metadata": {},
     "output_type": "execute_result"
    }
   ],
   "source": [
    "len(datos)"
   ]
  },
  {
   "cell_type": "code",
   "execution_count": 4,
   "id": "9e260889",
   "metadata": {},
   "outputs": [],
   "source": [
    "def chunk_by_words(text, chunk_size=300, overlap=10):\n",
    "    tokens = text.split()\n",
    "    chunks = []\n",
    "    i = 0\n",
    "    while i < len(tokens):\n",
    "        chunks.append(\" \".join(tokens[i:i+chunk_size]))\n",
    "        i += chunk_size - overlap\n",
    "    return chunks"
   ]
  },
  {
   "cell_type": "code",
   "execution_count": 5,
   "id": "3c3da933",
   "metadata": {},
   "outputs": [
    {
     "name": "stdout",
     "output_type": "stream",
     "text": [
      "Chunk 0: Nosotros elegimos ir a la luna. Elegimos ir a la luna. Elegimos ir a la luna en esta década y\n",
      "\n",
      "Chunk 0: Nosotros elegimos ir a la luna. Elegimos ir a la luna. Elegimos ir a la luna en esta década y\n",
      "\n",
      "Chunk 1: luna en esta década y hacer otras cosas no porque sean fáciles, sino porque son difíciles. Porque esa meta servirá\n",
      "\n",
      "Chunk 1: luna en esta década y hacer otras cosas no porque sean fáciles, sino porque son difíciles. Porque esa meta servirá\n",
      "\n",
      "Chunk 2: difíciles. Porque esa meta servirá para organizar y medir lo mejor de nuestras energías y habilidades, porque ese desafío es\n",
      "\n",
      "Chunk 2: difíciles. Porque esa meta servirá para organizar y medir lo mejor de nuestras energías y habilidades, porque ese desafío es\n",
      "\n",
      "Chunk 3: habilidades, porque ese desafío es uno que estamos dispuestos a aceptar.\n",
      "\n",
      "Chunk 3: habilidades, porque ese desafío es uno que estamos dispuestos a aceptar.\n",
      "\n"
     ]
    }
   ],
   "source": [
    "speech = \"Nosotros elegimos ir a la luna. Elegimos ir a la luna. Elegimos ir a la luna en esta década y hacer otras cosas no porque sean fáciles, sino porque son difíciles. Porque esa meta servirá para organizar y medir lo mejor de nuestras energías y habilidades, porque ese desafío es uno que estamos dispuestos a aceptar.\"\n",
    "\n",
    "chunks = chunk_by_words(speech, chunk_size=20, overlap=5)\n",
    "for idx, chunk in enumerate(chunks):\n",
    "    print(f\"Chunk {idx}: {chunk}\\n\")\n",
    "    print(f\"Chunk {idx}: {chunk}\\n\")"
   ]
  },
  {
   "cell_type": "code",
   "execution_count": 107,
   "id": "0e7608fa",
   "metadata": {},
   "outputs": [],
   "source": [
    "chunked_documents = []\n",
    "chunk_unique_id = 0\n",
    "for doc_id, document in enumerate(datos):\n",
    "    chunks = chunk_by_words(document[1])\n",
    "    for chunk_id, chunk in enumerate(chunks):\n",
    "        chunked_documents.append({\n",
    "            \"id\": chunk_unique_id,\n",
    "            \"document_id\": chunk_id,\n",
    "            \"person_id\": document[0],\n",
    "            \"text\": chunk\n",
    "        })\n",
    "        chunk_unique_id += 1"
   ]
  },
  {
   "cell_type": "code",
   "execution_count": 108,
   "id": "8952a40a",
   "metadata": {},
   "outputs": [
    {
     "name": "stdout",
     "output_type": "stream",
     "text": [
      "8218\n"
     ]
    }
   ],
   "source": [
    "print(len(chunked_documents))"
   ]
  },
  {
   "cell_type": "code",
   "execution_count": 109,
   "id": "05c25ec1",
   "metadata": {},
   "outputs": [
    {
     "data": {
      "text/plain": [
       "{'id': 1,\n",
       " 'document_id': 0,\n",
       " 'person_id': '16852973',\n",
       " 'text': \"HR ADMINISTRATOR/MARKETING ASSOCIATE HR ADMINISTRATOR Summary Dedicated Customer Service Manager with 15+ years of experience in Hospitality and Customer Service Management. Respected builder and leader of customer-focused teams; strives to instill a shared, enthusiastic commitment to customer service. Highlights Focused on customer satisfaction Team management Marketing savvy Conflict resolution techniques Training and development Skilled multi-tasker Client relations specialist Accomplishments Missouri DOT Supervisor Training Certification Certified by IHG in Customer Loyalty and Marketing by Segment Hilton Worldwide General Manager Training Certification Accomplished Trainer for cross server hospitality systems such as Hilton OnQ , Micros Opera PMS , Fidelio OPERA Reservation System (ORS) , Holidex Completed courses and seminars in customer service, sales strategies, inventory control, loss prevention, safety, time management, leadership and performance assessment. Experience HR Administrator/Marketing Associate HR Administrator Dec 2013 to Current Company Name － City , State Helps to develop policies, directs and coordinates activities such as employment, compensation, labor relations, benefits, training, and employee services. Prepares employee separation notices and related documentation Keeps records of benefits plans participation such as insurance and pension plan, personnel transactions such as hires, promotions, transfers, performance reviews, and terminations, and employee statistics for government reporting. Advises management in appropriate resolution of employee relations issues. Administers benefits programs such as life, health, dental, insurance, pension plans, vacation, sick leave, leave of absence, and employee assistance. Marketing Associate Designed and created marketing collateral for sales meetings, trade shows and company executives. Managed the in-house advertising program consisting of print and media collateral pieces. Assisted in the complete design and launch of the company's website in 2 months. Created an official company page on Facebook to facilitate interaction with customers. Analyzed ratings and programming features of competitors to evaluate the effectiveness of marketing strategies. Advanced Medical Claims Analyst Mar 2012 to Dec 2013 Company\"}"
      ]
     },
     "execution_count": 109,
     "metadata": {},
     "output_type": "execute_result"
    }
   ],
   "source": [
    "chunked_documents[1]"
   ]
  },
  {
   "cell_type": "code",
   "execution_count": 9,
   "id": "89c43459",
   "metadata": {},
   "outputs": [
    {
     "name": "stderr",
     "output_type": "stream",
     "text": [
      "/Users/gancoce/.pyenv/versions/3.10.0/lib/python3.10/site-packages/sentence_transformers/cross_encoder/CrossEncoder.py:11: TqdmWarning: IProgress not found. Please update jupyter and ipywidgets. See https://ipywidgets.readthedocs.io/en/stable/user_install.html\n",
      "  from tqdm.autonotebook import tqdm, trange\n"
     ]
    }
   ],
   "source": [
    "from sentence_transformers import SentenceTransformer\n",
    "\n",
    "model = SentenceTransformer('paraphrase-multilingual-mpnet-base-v2')"
   ]
  },
  {
   "cell_type": "code",
   "execution_count": 75,
   "id": "7d2fc104",
   "metadata": {},
   "outputs": [],
   "source": [
    "def get_embedding(text):\n",
    "    return model.encode(text)"
   ]
  },
  {
   "cell_type": "code",
   "execution_count": 11,
   "id": "60a886a7",
   "metadata": {},
   "outputs": [],
   "source": [
    "from annoy import AnnoyIndex\n",
    "import os\n",
    "\n",
    "embedding_size = 768\n",
    "index_name = \"full-index-mananeras.ann\""
   ]
  },
  {
   "cell_type": "code",
   "execution_count": 110,
   "id": "ce748a88",
   "metadata": {},
   "outputs": [],
   "source": [
    "chunk_id_mapping = {}\n",
    "for chunk in chunked_documents:\n",
    "    chunk_id_mapping[chunk[\"id\"]] = chunk"
   ]
  },
  {
   "cell_type": "code",
   "execution_count": 111,
   "id": "f8f59fd9",
   "metadata": {},
   "outputs": [
    {
     "name": "stdout",
     "output_type": "stream",
     "text": [
      "{'id': 1, 'document_id': 0, 'person_id': '16852973', 'text': \"HR ADMINISTRATOR/MARKETING ASSOCIATE HR ADMINISTRATOR Summary Dedicated Customer Service Manager with 15+ years of experience in Hospitality and Customer Service Management. Respected builder and leader of customer-focused teams; strives to instill a shared, enthusiastic commitment to customer service. Highlights Focused on customer satisfaction Team management Marketing savvy Conflict resolution techniques Training and development Skilled multi-tasker Client relations specialist Accomplishments Missouri DOT Supervisor Training Certification Certified by IHG in Customer Loyalty and Marketing by Segment Hilton Worldwide General Manager Training Certification Accomplished Trainer for cross server hospitality systems such as Hilton OnQ , Micros Opera PMS , Fidelio OPERA Reservation System (ORS) , Holidex Completed courses and seminars in customer service, sales strategies, inventory control, loss prevention, safety, time management, leadership and performance assessment. Experience HR Administrator/Marketing Associate HR Administrator Dec 2013 to Current Company Name － City , State Helps to develop policies, directs and coordinates activities such as employment, compensation, labor relations, benefits, training, and employee services. Prepares employee separation notices and related documentation Keeps records of benefits plans participation such as insurance and pension plan, personnel transactions such as hires, promotions, transfers, performance reviews, and terminations, and employee statistics for government reporting. Advises management in appropriate resolution of employee relations issues. Administers benefits programs such as life, health, dental, insurance, pension plans, vacation, sick leave, leave of absence, and employee assistance. Marketing Associate Designed and created marketing collateral for sales meetings, trade shows and company executives. Managed the in-house advertising program consisting of print and media collateral pieces. Assisted in the complete design and launch of the company's website in 2 months. Created an official company page on Facebook to facilitate interaction with customers. Analyzed ratings and programming features of competitors to evaluate the effectiveness of marketing strategies. Advanced Medical Claims Analyst Mar 2012 to Dec 2013 Company\"}\n"
     ]
    }
   ],
   "source": [
    "print(chunk_id_mapping[1])"
   ]
  },
  {
   "cell_type": "code",
   "execution_count": 112,
   "id": "2bcd5239",
   "metadata": {},
   "outputs": [],
   "source": [
    "if not os.path.exists(index_name):\n",
    "    index = AnnoyIndex(embedding_size, 'angular')\n",
    "\n",
    "    for idx, chunk in chunk_id_mapping.items():\n",
    "\n",
    "        v = get_embedding(\"person_id: \" + chunk[\"resume_id\"]+\", resume: \"+chunk[\"text\"])\n",
    "\n",
    "        index.add_item(idx, v)\n",
    "\n",
    "    index.build(10)\n",
    "    index.save(index_name)"
   ]
  },
  {
   "cell_type": "code",
   "execution_count": 113,
   "id": "a88d9275",
   "metadata": {},
   "outputs": [
    {
     "data": {
      "text/plain": [
       "True"
      ]
     },
     "execution_count": 113,
     "metadata": {},
     "output_type": "execute_result"
    }
   ],
   "source": [
    "index = AnnoyIndex(embedding_size, 'angular')\n",
    "index.load(index_name)"
   ]
  },
  {
   "cell_type": "code",
   "execution_count": 114,
   "id": "83db4428",
   "metadata": {},
   "outputs": [],
   "source": [
    "pregunta = \"¿Give me top 3 resumes and person_id that fits the following requirement?: Senior Software Developer  Responsibilities:  Develop web applications using Java and React. Design and maintain robust APIs. Collaborate on technical design and software architecture. Optimize performance and resolve technical issues. Document code and processes. Requirements:  3+ years of software development experience. Proficiency in Java and React. Experience with RESTful APIs. Strong analytical and problem-solving skills. Communication skills in Spanish/English. Desirable:  Experience with agile methodologies. Knowledge of databases and Git.\""
   ]
  },
  {
   "cell_type": "code",
   "execution_count": 115,
   "id": "5213e6f5",
   "metadata": {},
   "outputs": [
    {
     "name": "stdout",
     "output_type": "stream",
     "text": [
      "¿Give me top 3 resumes and person_id that fits the following requirement?: Senior Software Developer  Responsibilities:  Develop web applications using Java and React. Design and maintain robust APIs. Collaborate on technical design and software architecture. Optimize performance and resolve technical issues. Document code and processes. Requirements:  3+ years of software development experience. Proficiency in Java and React. Experience with RESTful APIs. Strong analytical and problem-solving skills. Communication skills in Spanish/English. Desirable:  Experience with agile methodologies. Knowledge of databases and Git.\n"
     ]
    }
   ],
   "source": [
    "print(pregunta)\n",
    "embedding_pregunta = get_embedding(pregunta)\n",
    "#print(embedding_pregunta)"
   ]
  },
  {
   "cell_type": "code",
   "execution_count": 123,
   "id": "00cca349",
   "metadata": {},
   "outputs": [
    {
     "data": {
      "text/plain": [
       "[7233, 6837, 441, 3876, 6346]"
      ]
     },
     "execution_count": 123,
     "metadata": {},
     "output_type": "execute_result"
    }
   ],
   "source": [
    "ids_potenciales_respuestas = index.get_nns_by_vector(embedding_pregunta, 5)\n",
    "ids_potenciales_respuestas"
   ]
  },
  {
   "cell_type": "code",
   "execution_count": 124,
   "id": "460cbfa2",
   "metadata": {},
   "outputs": [
    {
     "name": "stdout",
     "output_type": "stream",
     "text": [
      "[{'id': 7233, 'document_id': 0, 'person_id': '39247950', 'text': \"SOFTWARE ENGINEER Qualifications C# 3.0, PL/SQL, JavaScript, HTML 4, CSS 2 Framework: .NET 3.5 Database: SQL Server 2008, Oracle 9i Operating systems: Windows 98/XP, Windows server 2000/2005, UNIX Tools/Services: TOAD, HP Service Manager, WinSCP, PuTTY, PM Smart, vi text editor, Visual SourceSafe and BusinessObjects XI 3.1 Universe Designer, Desktop Intelligence, Central Management Console Domain: Banking Work Experience Software Engineer July 2010 to March 2014 Company Name 3 years and 9 months of experience in the development, support and enhancement of web and windows applications and in the implementation of cost effective valueadds Designed and developed webbased tools in ASP .NET 3.5, using the programming and C# PL/SQL procedural languages namely and Enhanced EBusiness applications and managed technological issues by analyzing codes and providing customizable solutions using SQL and Business Objects XI 3.1 tools Awarded for outstanding performance and ontime delivery of projects and as a result helped the team achieve 100% customer satisfaction ( CSAT score 7/7 ) Theoretical knowledge on the basics of Windows Presentation Foundation/Extensible Application Markup Language of .NET Framework 3.5 and AngularJS Basic understanding of the strategies involved in moving applications to Cloud, in Microsoft's Windows Azure. Manager January 2013 to March 2014 Company Name － City 1. Statement of Work (SOW) Tracker : Webbased tool developed for use by LBG and partners of LBG (e.g HCL) a. The tool lets the user create, modify, generate Statement of Work (SOW), online. b. Project details like team size, team structure and work description are also captured separately for use by managers. c. Report generation functionality is enabled for privileged users accessing the tool. 2. Service Level Agreement (SLA) Tracker : Online tool for use by IT vendors and LBG for tracking Service Level Agreement (SLA) of all projects and generating customized reports. a. Data captured using this\"}, {'id': 6837, 'document_id': 2, 'person_id': '14364597', 'text': 'in management, employee hiring and training, and customer service, seeking a position that will fully utilize my skills, and offer an opportunity for continued professional growth. Specialties: Strong software skills including MS Word, Excel, PowerPoint, Publisher, Banner, VisiFlow, XtenderSolutions, Cisco Agent Desktop, Cisco Supervisor Desktop and Adobe Acrobat. Proficient with mainstream social networking sites.'}, {'id': 441, 'document_id': 0, 'person_id': '12415691', 'text': \"INFORMATION DESIGNER Summary of Qualifications Strong leadership, project management, System Administration and technical skills to meet the efficiency and optimization needs. Has 3+ years of professional experience in managing, developing and maintaining software systems, web applications, and database systems. Experience in Unix/Linux System Administration, Oracle Database Administration (11g), MySQL database administration, Ellucian Banner ERP, and Oracle Application Express(APEX).Educated with solid math background and equipped with strong problem solving skills Technical Skills Languages : C, C++, C#.NET, Java, Python, PHP, Mathematica, Oracle, PL/SQL, MySQL, XHTML/CSS Environment: Windows, UNIX, Linux(Red Hat), Windows Server, WAMP, LAMP Softwares IDE : TOAD for Oracle, SQL Developer, Visual Studio, Eclipse, NetBeans, Dev-C++, Notepad++,Microsoft Office Experience Information Designer , 09/2012 － Current Company Name － City , State Luminis system administration - The Luminis Platform is a Web portal system(https:/aggieaccess.cameron.edu) that creates a common gateway to the information that students, faculty, and staff use every day. This system is running on T5220 server Chief technical staff for maintaining university's website(www.cameron.edu ) DegreeWorks administrator - Implemented DegreeWorks application on Linux server with backend Oracle database with highly customized XML documents as frontend. DegreeWorks is a comprehensive, web-based academic advising and degree audit tool that helps students and their advisors successfully navigate curriculum requirements Plans and implements backup and recovery of the Oracle database using RMAN and MySQL Database with mysqldump utility Provided system administration for 12+ servers of Red Hat Linux, Centos Linux and Unix(Solaris 10) including routine maintenance, patching, and system backups and restore, and software and hardware upgrades Experienced in Performance Tuning, Query Optimization, and Database Consistency Checks Experienced in developing stored procedures, Triggers, Cursors, Joins, Views, Cursors and SQL on databases: MySQL, Oracle 11g Experienced in designing, modeling, developing, deploying and supporting database - driven applications using Oracle Application Express (APEX) Experienced in Monitoring servers\"}, {'id': 3876, 'document_id': 0, 'person_id': '95429627', 'text': 'CONSULTANT Highlights TECHNOLOGY SKILLS Visual Basic * HTML * JavaScript * SQL * XML * Python * MVC * FileMaker * PHP * Advanced Excel * SiteCatalyst CORE COMPETENCIES Problem Solving * Relational Databases * Process Reengineering * Customer Relations * Staff Management Startups & Transitional Environments * Systems Integration * Data Migration * Reporting & Automation Accomplishments Received Sales Achievement Award for attaining 163% billable hours target with 5/5 customer satisfaction rating Experience Company Name City , State Consultant 01/2010 to Current Publicly traded (ADBE) digital technology company specializing in content creation and online analytics annual sales of $4.4 billion Support simultaneous client consulting engagements by performing product implementations, technical problem solving, and ad hoc client requests for Fortune 500 companies such as Home Depot, Disney and REI. Promoted internally to a non-billable position needed to retain and rebuild relationships with dissatisfied clients in the US and EMEA through problem resolution, both distant and in-person. Participated in product integration team as the product expert for SiteCatalyst and SearchCenter during acquisition integrations. * Received Sales Achievement Award for attaining 163% billable hours target with 5/5 customer satisfaction rating * Designed and coded custom tools for automating and improving client campaign creation, management and deployment resulting in an average 60% increase in campaign management efficiency per client * Increased services revenue by 15% from clients such as Home Depot, Disney and REI by developing tools to increase effective advertising spend * Supported EMEA clients such as General Motors, Daimler and TicketMaster by performing product implementations and training, technical problem solving, and custom client solutions Company Name City , State Controller 01/2008 to 01/2010 Provider of medical coding information annual sales of $12 million acquired by Access Intelligence in 2009 Oversee all financial functions, including audits, monthly financial statement preparation, daily cash'}, {'id': 6346, 'document_id': 0, 'person_id': '10734870', 'text': 'CONSTRUCTION Summary The purpose of submitting my resume to your company is to obtain a position with the opportunity to utilize my training and skills in the technician industry. I am experienced in warehouse and technician field -wiring 508 A UL soft starters, hard starters while assuring a high level of excellent customer service and satisfaction with maximum productivity; and maintaining a clean and safe warehouse. Also with security experience with skills in Microsoft Office Applications including Word, Excel, CCTV and PowerPoint; I am also competent in customer service satisfaction for installing direct TV and having the ability to gain knowledge of certain products and being able to sell them to the public. I have solid leadership and communication skills. I am also a positive person willing to take on different tasks and eager to learn. These skills are exemplified in my previous employment with Sprecher + Schuh. As a Wire-man and a Warehouse worker my duties ranged from being able to sale products to answering inquires or repair and wiring enclosures. By applying for this position will allow me to expand professionally and develop and learn new skills. I am a team player-I enjoy being a positive outlet for my fellow co-workers and contributed to the success of others. I would like to thank you all, for your time and consideration. Enclosed is a copy of my resume containing my contact information and my work history. Thanks to all again. Sincerely, Edgardo M. Dubose To secure a position that will utilize my training and skills in the manufacturing industry to contribute to the success of the organization. Managing employees and projects · Competent in Microsoft Applications-Word, Excel, PowerPoint · Maintain solid communication skills-oral and written · Ability t remain focus and productive daily while managing repetitive tasks · Knowledge'}]\n"
     ]
    },
    {
     "data": {
      "text/plain": [
       "[\"39247950: SOFTWARE ENGINEER Qualifications C# 3.0, PL/SQL, JavaScript, HTML 4, CSS 2 Framework: .NET 3.5 Database: SQL Server 2008, Oracle 9i Operating systems: Windows 98/XP, Windows server 2000/2005, UNIX Tools/Services: TOAD, HP Service Manager, WinSCP, PuTTY, PM Smart, vi text editor, Visual SourceSafe and BusinessObjects XI 3.1 Universe Designer, Desktop Intelligence, Central Management Console Domain: Banking Work Experience Software Engineer July 2010 to March 2014 Company Name 3 years and 9 months of experience in the development, support and enhancement of web and windows applications and in the implementation of cost effective valueadds Designed and developed webbased tools in ASP .NET 3.5, using the programming and C# PL/SQL procedural languages namely and Enhanced EBusiness applications and managed technological issues by analyzing codes and providing customizable solutions using SQL and Business Objects XI 3.1 tools Awarded for outstanding performance and ontime delivery of projects and as a result helped the team achieve 100% customer satisfaction ( CSAT score 7/7 ) Theoretical knowledge on the basics of Windows Presentation Foundation/Extensible Application Markup Language of .NET Framework 3.5 and AngularJS Basic understanding of the strategies involved in moving applications to Cloud, in Microsoft's Windows Azure. Manager January 2013 to March 2014 Company Name － City 1. Statement of Work (SOW) Tracker : Webbased tool developed for use by LBG and partners of LBG (e.g HCL) a. The tool lets the user create, modify, generate Statement of Work (SOW), online. b. Project details like team size, team structure and work description are also captured separately for use by managers. c. Report generation functionality is enabled for privileged users accessing the tool. 2. Service Level Agreement (SLA) Tracker : Online tool for use by IT vendors and LBG for tracking Service Level Agreement (SLA) of all projects and generating customized reports. a. Data captured using this\",\n",
       " '14364597: in management, employee hiring and training, and customer service, seeking a position that will fully utilize my skills, and offer an opportunity for continued professional growth. Specialties: Strong software skills including MS Word, Excel, PowerPoint, Publisher, Banner, VisiFlow, XtenderSolutions, Cisco Agent Desktop, Cisco Supervisor Desktop and Adobe Acrobat. Proficient with mainstream social networking sites.',\n",
       " \"12415691: INFORMATION DESIGNER Summary of Qualifications Strong leadership, project management, System Administration and technical skills to meet the efficiency and optimization needs. Has 3+ years of professional experience in managing, developing and maintaining software systems, web applications, and database systems. Experience in Unix/Linux System Administration, Oracle Database Administration (11g), MySQL database administration, Ellucian Banner ERP, and Oracle Application Express(APEX).Educated with solid math background and equipped with strong problem solving skills Technical Skills Languages : C, C++, C#.NET, Java, Python, PHP, Mathematica, Oracle, PL/SQL, MySQL, XHTML/CSS Environment: Windows, UNIX, Linux(Red Hat), Windows Server, WAMP, LAMP Softwares IDE : TOAD for Oracle, SQL Developer, Visual Studio, Eclipse, NetBeans, Dev-C++, Notepad++,Microsoft Office Experience Information Designer , 09/2012 － Current Company Name － City , State Luminis system administration - The Luminis Platform is a Web portal system(https:/aggieaccess.cameron.edu) that creates a common gateway to the information that students, faculty, and staff use every day. This system is running on T5220 server Chief technical staff for maintaining university's website(www.cameron.edu ) DegreeWorks administrator - Implemented DegreeWorks application on Linux server with backend Oracle database with highly customized XML documents as frontend. DegreeWorks is a comprehensive, web-based academic advising and degree audit tool that helps students and their advisors successfully navigate curriculum requirements Plans and implements backup and recovery of the Oracle database using RMAN and MySQL Database with mysqldump utility Provided system administration for 12+ servers of Red Hat Linux, Centos Linux and Unix(Solaris 10) including routine maintenance, patching, and system backups and restore, and software and hardware upgrades Experienced in Performance Tuning, Query Optimization, and Database Consistency Checks Experienced in developing stored procedures, Triggers, Cursors, Joins, Views, Cursors and SQL on databases: MySQL, Oracle 11g Experienced in designing, modeling, developing, deploying and supporting database - driven applications using Oracle Application Express (APEX) Experienced in Monitoring servers\",\n",
       " '95429627: CONSULTANT Highlights TECHNOLOGY SKILLS Visual Basic * HTML * JavaScript * SQL * XML * Python * MVC * FileMaker * PHP * Advanced Excel * SiteCatalyst CORE COMPETENCIES Problem Solving * Relational Databases * Process Reengineering * Customer Relations * Staff Management Startups & Transitional Environments * Systems Integration * Data Migration * Reporting & Automation Accomplishments Received Sales Achievement Award for attaining 163% billable hours target with 5/5 customer satisfaction rating Experience Company Name City , State Consultant 01/2010 to Current Publicly traded (ADBE) digital technology company specializing in content creation and online analytics annual sales of $4.4 billion Support simultaneous client consulting engagements by performing product implementations, technical problem solving, and ad hoc client requests for Fortune 500 companies such as Home Depot, Disney and REI. Promoted internally to a non-billable position needed to retain and rebuild relationships with dissatisfied clients in the US and EMEA through problem resolution, both distant and in-person. Participated in product integration team as the product expert for SiteCatalyst and SearchCenter during acquisition integrations. * Received Sales Achievement Award for attaining 163% billable hours target with 5/5 customer satisfaction rating * Designed and coded custom tools for automating and improving client campaign creation, management and deployment resulting in an average 60% increase in campaign management efficiency per client * Increased services revenue by 15% from clients such as Home Depot, Disney and REI by developing tools to increase effective advertising spend * Supported EMEA clients such as General Motors, Daimler and TicketMaster by performing product implementations and training, technical problem solving, and custom client solutions Company Name City , State Controller 01/2008 to 01/2010 Provider of medical coding information annual sales of $12 million acquired by Access Intelligence in 2009 Oversee all financial functions, including audits, monthly financial statement preparation, daily cash',\n",
       " '10734870: CONSTRUCTION Summary The purpose of submitting my resume to your company is to obtain a position with the opportunity to utilize my training and skills in the technician industry. I am experienced in warehouse and technician field -wiring 508 A UL soft starters, hard starters while assuring a high level of excellent customer service and satisfaction with maximum productivity; and maintaining a clean and safe warehouse. Also with security experience with skills in Microsoft Office Applications including Word, Excel, CCTV and PowerPoint; I am also competent in customer service satisfaction for installing direct TV and having the ability to gain knowledge of certain products and being able to sell them to the public. I have solid leadership and communication skills. I am also a positive person willing to take on different tasks and eager to learn. These skills are exemplified in my previous employment with Sprecher + Schuh. As a Wire-man and a Warehouse worker my duties ranged from being able to sale products to answering inquires or repair and wiring enclosures. By applying for this position will allow me to expand professionally and develop and learn new skills. I am a team player-I enjoy being a positive outlet for my fellow co-workers and contributed to the success of others. I would like to thank you all, for your time and consideration. Enclosed is a copy of my resume containing my contact information and my work history. Thanks to all again. Sincerely, Edgardo M. Dubose To secure a position that will utilize my training and skills in the manufacturing industry to contribute to the success of the organization. Managing employees and projects · Competent in Microsoft Applications-Word, Excel, PowerPoint · Maintain solid communication skills-oral and written · Ability t remain focus and productive daily while managing repetitive tasks · Knowledge']"
      ]
     },
     "execution_count": 124,
     "metadata": {},
     "output_type": "execute_result"
    }
   ],
   "source": [
    "potenciales_respuestas = [chunk_id_mapping[idx] for idx in ids_potenciales_respuestas]\n",
    "print(potenciales_respuestas)\n",
    "texto_potencial = [f\"{chunk['person_id']}: {chunk['text']}\" for chunk in potenciales_respuestas]\n",
    "texto_potencial"
   ]
  },
  {
   "cell_type": "markdown",
   "id": "4df5be9f",
   "metadata": {},
   "source": [
    "Create OpenAI method to get answers"
   ]
  },
  {
   "cell_type": "code",
   "execution_count": 19,
   "id": "72e02855",
   "metadata": {},
   "outputs": [],
   "source": [
    "from openai import OpenAI\n",
    "\n",
    "client = OpenAI()\n",
    "\n",
    "def query_llm(prompt, model=\"gpt-3.5-turbo\"):\n",
    "    completions = client.chat.completions.create(\n",
    "\n",
    "    model=\"gpt-3.5-turbo\",\n",
    "        messages=[\n",
    "            {\"role\": \"user\", \"content\": prompt},\n",
    "        ],\n",
    "        temperature=0.0,\n",
    "    )\n",
    "\n",
    "    return completions.choices[0].message.content"
   ]
  },
  {
   "cell_type": "code",
   "execution_count": 20,
   "id": "2e7de968",
   "metadata": {},
   "outputs": [],
   "source": [
    "def get_answer(question, context_documents):\n",
    "    context_divider = \"\\n---\\n\"\n",
    "    question = question.strip()\n",
    "\n",
    "    context = context_divider.join(context_documents)\n",
    "\n",
    "    template_rag = \"\"\"You are an assistant in the Human Resources department of an outsourcing company.\n",
    "Respond to the question based on the context required by the employee.\n",
    "The context is delimited by the inverted commas.\n",
    "\n",
    "```\n",
    "{context}\n",
    "```\n",
    "\n",
    "Question: {question}\n",
    "\"\"\"\n",
    "    final_prompt = template_rag.format(context=context, question=question)\n",
    "    return query_llm(final_prompt)"
   ]
  },
  {
   "cell_type": "code",
   "execution_count": 125,
   "id": "3b2d97e9",
   "metadata": {},
   "outputs": [
    {
     "name": "stdout",
     "output_type": "stream",
     "text": [
      "¿Give me top 3 resumes and person_id that fits the following requirement?: Senior Software Developer  Responsibilities:  Develop web applications using Java and React. Design and maintain robust APIs. Collaborate on technical design and software architecture. Optimize performance and resolve technical issues. Document code and processes. Requirements:  3+ years of software development experience. Proficiency in Java and React. Experience with RESTful APIs. Strong analytical and problem-solving skills. Communication skills in Spanish/English. Desirable:  Experience with agile methodologies. Knowledge of databases and Git.\n",
      "\n",
      "Based on the provided resumes, the top 3 candidates that fit the requirements for a Senior Software Developer position are:\n",
      "\n",
      "1. Person ID: 12415691\n",
      "   - Title: Information Designer\n",
      "   - Qualifications: Proficiency in Java, experience with RESTful APIs, strong problem-solving skills, communication skills in English.\n",
      "   - Experience: 3+ years of professional experience in managing, developing, and maintaining software systems and web applications.\n",
      "   - Desirable: Experience with databases (Oracle, MySQL) and Git.\n",
      "\n",
      "2. Person ID: 39247950\n",
      "   - Title: Software Engineer\n",
      "   - Qualifications: Proficiency in C# 3.0, JavaScript, HTML 4, CSS 2, experience with .NET 3.5, SQL Server 2008, Oracle 9i, and TOAD.\n",
      "   - Experience: 3 years and 9 months of experience in web and windows applications development.\n",
      "   - Desirable: Theoretical knowledge of Windows Presentation Foundation, basic understanding of moving applications to Cloud.\n",
      "\n",
      "3. Person ID: 95429627\n",
      "   - Title: Consultant\n",
      "   - Qualifications: Proficiency in HTML, JavaScript, SQL, XML, Python, MVC, experience with SiteCatalyst.\n",
      "   - Experience: Experience in product implementations, technical problem-solving, and client solutions for Fortune 500 companies.\n",
      "   - Desirable: Experience with data migration, reporting, and automation.\n",
      "\n",
      "These candidates possess the required skills and experience for a Senior Software Developer position, including proficiency in Java and React, experience with RESTful APIs, and strong analytical and problem-solving skills.\n"
     ]
    }
   ],
   "source": [
    "print(pregunta)\n",
    "print()\n",
    "print(get_answer(pregunta, texto_potencial))"
   ]
  }
 ],
 "metadata": {
  "kernelspec": {
   "display_name": "Python 3",
   "language": "python",
   "name": "python3"
  },
  "language_info": {
   "codemirror_mode": {
    "name": "ipython",
    "version": 3
   },
   "file_extension": ".py",
   "mimetype": "text/x-python",
   "name": "python",
   "nbconvert_exporter": "python",
   "pygments_lexer": "ipython3",
   "version": "3.10.0"
  }
 },
 "nbformat": 4,
 "nbformat_minor": 5
}
